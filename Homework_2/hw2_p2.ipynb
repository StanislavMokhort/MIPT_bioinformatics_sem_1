{
 "cells": [
  {
   "cell_type": "markdown",
   "id": "a56478bc-27b3-4b80-b5f8-dea72dd9b652",
   "metadata": {
    "tags": []
   },
   "source": [
    "# Работа с таблицей"
   ]
  },
  {
   "cell_type": "markdown",
   "id": "b392e313-7892-4603-b26c-c6bd12ed5770",
   "metadata": {},
   "source": [
    "## Чтение таблицы"
   ]
  },
  {
   "cell_type": "code",
   "execution_count": 29,
   "id": "fe0b1675-95a6-4f4b-8cd4-f566c057e076",
   "metadata": {},
   "outputs": [
    {
     "name": "stderr",
     "output_type": "stream",
     "text": [
      "/scratch/ipykernel_2151215/1582014608.py:3: DtypeWarning: Columns (32,34,38) have mixed types. Specify dtype option on import or set low_memory=False.\n",
      "  dataset = pd.read_table('hgnc_complete_set.tsv')\n"
     ]
    },
    {
     "data": {
      "text/html": [
       "<div>\n",
       "<style scoped>\n",
       "    .dataframe tbody tr th:only-of-type {\n",
       "        vertical-align: middle;\n",
       "    }\n",
       "\n",
       "    .dataframe tbody tr th {\n",
       "        vertical-align: top;\n",
       "    }\n",
       "\n",
       "    .dataframe thead th {\n",
       "        text-align: right;\n",
       "    }\n",
       "</style>\n",
       "<table border=\"1\" class=\"dataframe\">\n",
       "  <thead>\n",
       "    <tr style=\"text-align: right;\">\n",
       "      <th></th>\n",
       "      <th>hgnc_id</th>\n",
       "      <th>symbol</th>\n",
       "      <th>name</th>\n",
       "      <th>locus_group</th>\n",
       "      <th>locus_type</th>\n",
       "      <th>status</th>\n",
       "      <th>location</th>\n",
       "      <th>location_sortable</th>\n",
       "      <th>alias_symbol</th>\n",
       "      <th>alias_name</th>\n",
       "      <th>...</th>\n",
       "      <th>merops</th>\n",
       "      <th>imgt</th>\n",
       "      <th>iuphar</th>\n",
       "      <th>kznf_gene_catalog</th>\n",
       "      <th>mamit-trnadb</th>\n",
       "      <th>cd</th>\n",
       "      <th>lncrnadb</th>\n",
       "      <th>enzyme_id</th>\n",
       "      <th>intermediate_filament_db</th>\n",
       "      <th>rna_central_ids</th>\n",
       "    </tr>\n",
       "  </thead>\n",
       "  <tbody>\n",
       "    <tr>\n",
       "      <th>0</th>\n",
       "      <td>HGNC:5</td>\n",
       "      <td>A1BG</td>\n",
       "      <td>alpha-1-B glycoprotein</td>\n",
       "      <td>protein-coding gene</td>\n",
       "      <td>gene with protein product</td>\n",
       "      <td>Approved</td>\n",
       "      <td>19q13.43</td>\n",
       "      <td>19q13.43</td>\n",
       "      <td>NaN</td>\n",
       "      <td>NaN</td>\n",
       "      <td>...</td>\n",
       "      <td>I43.950</td>\n",
       "      <td>NaN</td>\n",
       "      <td>NaN</td>\n",
       "      <td>NaN</td>\n",
       "      <td>NaN</td>\n",
       "      <td>NaN</td>\n",
       "      <td>NaN</td>\n",
       "      <td>NaN</td>\n",
       "      <td>NaN</td>\n",
       "      <td>NaN</td>\n",
       "    </tr>\n",
       "    <tr>\n",
       "      <th>1</th>\n",
       "      <td>HGNC:37133</td>\n",
       "      <td>A1BG-AS1</td>\n",
       "      <td>A1BG antisense RNA 1</td>\n",
       "      <td>non-coding RNA</td>\n",
       "      <td>RNA, long non-coding</td>\n",
       "      <td>Approved</td>\n",
       "      <td>19q13.43</td>\n",
       "      <td>19q13.43</td>\n",
       "      <td>FLJ23569</td>\n",
       "      <td>NaN</td>\n",
       "      <td>...</td>\n",
       "      <td>NaN</td>\n",
       "      <td>NaN</td>\n",
       "      <td>NaN</td>\n",
       "      <td>NaN</td>\n",
       "      <td>NaN</td>\n",
       "      <td>NaN</td>\n",
       "      <td>NaN</td>\n",
       "      <td>NaN</td>\n",
       "      <td>NaN</td>\n",
       "      <td>URS00007E4F6E</td>\n",
       "    </tr>\n",
       "    <tr>\n",
       "      <th>2</th>\n",
       "      <td>HGNC:24086</td>\n",
       "      <td>A1CF</td>\n",
       "      <td>APOBEC1 complementation factor</td>\n",
       "      <td>protein-coding gene</td>\n",
       "      <td>gene with protein product</td>\n",
       "      <td>Approved</td>\n",
       "      <td>10q11.23</td>\n",
       "      <td>10q11.23</td>\n",
       "      <td>ACF|ASP|ACF64|ACF65|APOBEC1CF</td>\n",
       "      <td>NaN</td>\n",
       "      <td>...</td>\n",
       "      <td>NaN</td>\n",
       "      <td>NaN</td>\n",
       "      <td>NaN</td>\n",
       "      <td>NaN</td>\n",
       "      <td>NaN</td>\n",
       "      <td>NaN</td>\n",
       "      <td>NaN</td>\n",
       "      <td>NaN</td>\n",
       "      <td>NaN</td>\n",
       "      <td>NaN</td>\n",
       "    </tr>\n",
       "    <tr>\n",
       "      <th>3</th>\n",
       "      <td>HGNC:7</td>\n",
       "      <td>A2M</td>\n",
       "      <td>alpha-2-macroglobulin</td>\n",
       "      <td>protein-coding gene</td>\n",
       "      <td>gene with protein product</td>\n",
       "      <td>Approved</td>\n",
       "      <td>12p13.31</td>\n",
       "      <td>12p13.31</td>\n",
       "      <td>FWP007|S863-7|CPAMD5</td>\n",
       "      <td>NaN</td>\n",
       "      <td>...</td>\n",
       "      <td>I39.001</td>\n",
       "      <td>NaN</td>\n",
       "      <td>NaN</td>\n",
       "      <td>NaN</td>\n",
       "      <td>NaN</td>\n",
       "      <td>NaN</td>\n",
       "      <td>NaN</td>\n",
       "      <td>NaN</td>\n",
       "      <td>NaN</td>\n",
       "      <td>NaN</td>\n",
       "    </tr>\n",
       "    <tr>\n",
       "      <th>4</th>\n",
       "      <td>HGNC:27057</td>\n",
       "      <td>A2M-AS1</td>\n",
       "      <td>A2M antisense RNA 1 (head to head)</td>\n",
       "      <td>non-coding RNA</td>\n",
       "      <td>RNA, long non-coding</td>\n",
       "      <td>Approved</td>\n",
       "      <td>12p13.31</td>\n",
       "      <td>12p13.31</td>\n",
       "      <td>NaN</td>\n",
       "      <td>NaN</td>\n",
       "      <td>...</td>\n",
       "      <td>NaN</td>\n",
       "      <td>NaN</td>\n",
       "      <td>NaN</td>\n",
       "      <td>NaN</td>\n",
       "      <td>NaN</td>\n",
       "      <td>NaN</td>\n",
       "      <td>NaN</td>\n",
       "      <td>NaN</td>\n",
       "      <td>NaN</td>\n",
       "      <td>URS00001F234A</td>\n",
       "    </tr>\n",
       "  </tbody>\n",
       "</table>\n",
       "<p>5 rows × 49 columns</p>\n",
       "</div>"
      ],
      "text/plain": [
       "      hgnc_id    symbol                                name  \\\n",
       "0      HGNC:5      A1BG              alpha-1-B glycoprotein   \n",
       "1  HGNC:37133  A1BG-AS1                A1BG antisense RNA 1   \n",
       "2  HGNC:24086      A1CF      APOBEC1 complementation factor   \n",
       "3      HGNC:7       A2M               alpha-2-macroglobulin   \n",
       "4  HGNC:27057   A2M-AS1  A2M antisense RNA 1 (head to head)   \n",
       "\n",
       "           locus_group                 locus_type    status  location  \\\n",
       "0  protein-coding gene  gene with protein product  Approved  19q13.43   \n",
       "1       non-coding RNA       RNA, long non-coding  Approved  19q13.43   \n",
       "2  protein-coding gene  gene with protein product  Approved  10q11.23   \n",
       "3  protein-coding gene  gene with protein product  Approved  12p13.31   \n",
       "4       non-coding RNA       RNA, long non-coding  Approved  12p13.31   \n",
       "\n",
       "  location_sortable                   alias_symbol alias_name  ...   merops  \\\n",
       "0          19q13.43                            NaN        NaN  ...  I43.950   \n",
       "1          19q13.43                       FLJ23569        NaN  ...      NaN   \n",
       "2          10q11.23  ACF|ASP|ACF64|ACF65|APOBEC1CF        NaN  ...      NaN   \n",
       "3          12p13.31           FWP007|S863-7|CPAMD5        NaN  ...  I39.001   \n",
       "4          12p13.31                            NaN        NaN  ...      NaN   \n",
       "\n",
       "  imgt iuphar kznf_gene_catalog mamit-trnadb   cd lncrnadb enzyme_id  \\\n",
       "0  NaN    NaN               NaN          NaN  NaN      NaN       NaN   \n",
       "1  NaN    NaN               NaN          NaN  NaN      NaN       NaN   \n",
       "2  NaN    NaN               NaN          NaN  NaN      NaN       NaN   \n",
       "3  NaN    NaN               NaN          NaN  NaN      NaN       NaN   \n",
       "4  NaN    NaN               NaN          NaN  NaN      NaN       NaN   \n",
       "\n",
       "   intermediate_filament_db rna_central_ids  \n",
       "0                       NaN             NaN  \n",
       "1                       NaN   URS00007E4F6E  \n",
       "2                       NaN             NaN  \n",
       "3                       NaN             NaN  \n",
       "4                       NaN   URS00001F234A  \n",
       "\n",
       "[5 rows x 49 columns]"
      ]
     },
     "execution_count": 29,
     "metadata": {},
     "output_type": "execute_result"
    }
   ],
   "source": [
    "import pandas as pd\n",
    "\n",
    "dataset = pd.read_table('hgnc_complete_set.tsv')\n",
    "dataset.head()"
   ]
  },
  {
   "cell_type": "markdown",
   "id": "6883e244-3797-4f06-9454-5300ab9e71e7",
   "metadata": {},
   "source": [
    "## Построение графика"
   ]
  },
  {
   "cell_type": "code",
   "execution_count": 30,
   "id": "4dfe33d5-eff9-4ba6-afc8-a70916811b9b",
   "metadata": {},
   "outputs": [
    {
     "data": {
      "image/png": "[encoded data removed]",
      "text/plain": [
       "<Figure size 640x480 with 1 Axes>"
      ]
     },
     "metadata": {},
     "output_type": "display_data"
    }
   ],
   "source": [
    "import seaborn as sns\n",
    "\n",
    "very_strange_plot = sns.lineplot(data=dataset, x=\"entrez_id\", y=\"entrez_id\")"
   ]
  },
  {
   "cell_type": "markdown",
   "id": "edb7a9db-8524-498a-83a7-71d88fdca17e",
   "metadata": {
    "tags": []
   },
   "source": [
    "# Картинка"
   ]
  },
  {
   "cell_type": "markdown",
   "id": "d77dba6f-08f6-4d85-8f7b-a3448bce57fb",
   "metadata": {},
   "source": [
    "![some text](https://sun9-1.userapi.com/impg/wETuO-IxkQWtRp_WtlNZ0pWkSU_D0CFsNZpTTg/64zgTjgRjR8.jpg?size=855x634&quality=95&sign=4f353c965e78999c5a27d08ab882c856&type=album)"
   ]
  }
 ],
 "metadata": {
  "kernelspec": {
   "display_name": "Python [conda env:.conda-python_main]",
   "language": "python",
   "name": "conda-env-.conda-python_main-py"
  },
  "language_info": {
   "codemirror_mode": {
    "name": "ipython",
    "version": 3
   },
   "file_extension": ".py",
   "mimetype": "text/x-python",
   "name": "python",
   "nbconvert_exporter": "python",
   "pygments_lexer": "ipython3",
   "version": "3.12.9"
  }
 },
 "nbformat": 4,
 "nbformat_minor": 5
}
